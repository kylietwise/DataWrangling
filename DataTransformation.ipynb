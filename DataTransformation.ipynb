{
 "cells": [
  {
   "cell_type": "markdown",
   "metadata": {},
   "source": [
    "Transformation Basics\n",
    "\n",
    "Grouping crimes by location type or by zip code (or groups of zip codes).\n",
    "Or, on the contrary, looking at types of crimes and where they are most common.\n",
    "Would be good to know which areas have the fastest growing and shrinking crime rates.\n",
    "Might even be worth grouping crimes by violent and non-violent?"
   ]
  },
  {
   "cell_type": "code",
   "execution_count": 4,
   "metadata": {},
   "outputs": [],
   "source": [
    "# importing required packages\n",
    "import pandas as pd\n",
    "import numpy as np\n",
    "import csv"
   ]
  },
  {
   "cell_type": "code",
   "execution_count": null,
   "metadata": {},
   "outputs": [],
   "source": [
    "# set working directory\n",
    "import os\n",
    "os.chdir('/Users/kyliewise/Desktop')"
   ]
  },
  {
   "cell_type": "code",
   "execution_count": 7,
   "metadata": {},
   "outputs": [
    {
     "data": {
      "text/html": [
       "<div>\n",
       "<style scoped>\n",
       "    .dataframe tbody tr th:only-of-type {\n",
       "        vertical-align: middle;\n",
       "    }\n",
       "\n",
       "    .dataframe tbody tr th {\n",
       "        vertical-align: top;\n",
       "    }\n",
       "\n",
       "    .dataframe thead th {\n",
       "        text-align: right;\n",
       "    }\n",
       "</style>\n",
       "<table border=\"1\" class=\"dataframe\">\n",
       "  <thead>\n",
       "    <tr style=\"text-align: right;\">\n",
       "      <th></th>\n",
       "      <th>\"INC NUMBER\"</th>\n",
       "      <th>\"OCCURRED ON\"</th>\n",
       "      <th>\"OCCURRED TO\"</th>\n",
       "      <th>\"UCR CRIME CATEGORY\"</th>\n",
       "      <th>\"100 BLOCK ADDR\"</th>\n",
       "      <th>\"ZIP\"</th>\n",
       "      <th>\"PREMISE TYPE\"</th>\n",
       "    </tr>\n",
       "  </thead>\n",
       "  <tbody>\n",
       "    <tr>\n",
       "      <th>0</th>\n",
       "      <td>\"201600000052855\"</td>\n",
       "      <td>2015-11-01</td>\n",
       "      <td>01/09/2016  00:00</td>\n",
       "      <td>\"MOTOR VEHICLE THEFT\"</td>\n",
       "      <td>\"N 43RD AVE &amp; W CACTUS RD\"</td>\n",
       "      <td>85029.0</td>\n",
       "      <td>\"SINGLE FAMILY HOUSE\"</td>\n",
       "    </tr>\n",
       "    <tr>\n",
       "      <th>1</th>\n",
       "      <td>\"201600000594484\"</td>\n",
       "      <td>2015-11-01</td>\n",
       "      <td>NaN</td>\n",
       "      <td>\"RAPE\"</td>\n",
       "      <td>\"13XX E ALMERIA RD\"</td>\n",
       "      <td>85006.0</td>\n",
       "      <td>\"SINGLE FAMILY HOUSE\"</td>\n",
       "    </tr>\n",
       "    <tr>\n",
       "      <th>2</th>\n",
       "      <td>\"201500002102327\"</td>\n",
       "      <td>2015-11-01</td>\n",
       "      <td>11/01/2015  09:00</td>\n",
       "      <td>\"LARCENY-THEFT\"</td>\n",
       "      <td>\"51XX N 15TH ST\"</td>\n",
       "      <td>85014.0</td>\n",
       "      <td>\"APARTMENT\"</td>\n",
       "    </tr>\n",
       "    <tr>\n",
       "      <th>3</th>\n",
       "      <td>\"201500002101405\"</td>\n",
       "      <td>2015-11-01</td>\n",
       "      <td>11/01/2015  05:00</td>\n",
       "      <td>\"MOTOR VEHICLE THEFT\"</td>\n",
       "      <td>\"102XX W MEDLOCK AVE\"</td>\n",
       "      <td>85307.0</td>\n",
       "      <td>\"SINGLE FAMILY HOUSE\"</td>\n",
       "    </tr>\n",
       "    <tr>\n",
       "      <th>4</th>\n",
       "      <td>\"201500002102668\"</td>\n",
       "      <td>2015-11-01</td>\n",
       "      <td>11/01/2015  11:50</td>\n",
       "      <td>\"MOTOR VEHICLE THEFT\"</td>\n",
       "      <td>\"69XX W WOOD ST\"</td>\n",
       "      <td>85043.0</td>\n",
       "      <td>\"SINGLE FAMILY HOUSE\"</td>\n",
       "    </tr>\n",
       "  </tbody>\n",
       "</table>\n",
       "</div>"
      ],
      "text/plain": [
       "        \"INC NUMBER\" \"OCCURRED ON\"      \"OCCURRED TO\"   \"UCR CRIME CATEGORY\"  \\\n",
       "0  \"201600000052855\"    2015-11-01  01/09/2016  00:00  \"MOTOR VEHICLE THEFT\"   \n",
       "1  \"201600000594484\"    2015-11-01                NaN                 \"RAPE\"   \n",
       "2  \"201500002102327\"    2015-11-01  11/01/2015  09:00        \"LARCENY-THEFT\"   \n",
       "3  \"201500002101405\"    2015-11-01  11/01/2015  05:00  \"MOTOR VEHICLE THEFT\"   \n",
       "4  \"201500002102668\"    2015-11-01  11/01/2015  11:50  \"MOTOR VEHICLE THEFT\"   \n",
       "\n",
       "             \"100 BLOCK ADDR\"    \"ZIP\"         \"PREMISE TYPE\"  \n",
       "0  \"N 43RD AVE & W CACTUS RD\"  85029.0  \"SINGLE FAMILY HOUSE\"  \n",
       "1         \"13XX E ALMERIA RD\"  85006.0  \"SINGLE FAMILY HOUSE\"  \n",
       "2            \"51XX N 15TH ST\"  85014.0            \"APARTMENT\"  \n",
       "3       \"102XX W MEDLOCK AVE\"  85307.0  \"SINGLE FAMILY HOUSE\"  \n",
       "4            \"69XX W WOOD ST\"  85043.0  \"SINGLE FAMILY HOUSE\"  "
      ]
     },
     "execution_count": 7,
     "metadata": {},
     "output_type": "execute_result"
    }
   ],
   "source": [
    "# reading in data\n",
    "df = pd.read_csv('crimestat2.csv', quoting=csv.QUOTE_NONE)\n",
    "\n",
    "# strip quotes, transform date to datetime, transform zip to int\n",
    "df['\"OCCURRED ON\"'] = pd.to_datetime(df['\"OCCURRED ON\"'])\n",
    "df['\"ZIP\"'] = pd.to_numeric(df['\"ZIP\"'].str.strip('\"'))\n",
    "\n",
    "# check to make sure it looks good\n",
    "df.head()"
   ]
  },
  {
   "cell_type": "code",
   "execution_count": 12,
   "metadata": {},
   "outputs": [
    {
     "data": {
      "text/html": [
       "<div>\n",
       "<style scoped>\n",
       "    .dataframe tbody tr th:only-of-type {\n",
       "        vertical-align: middle;\n",
       "    }\n",
       "\n",
       "    .dataframe tbody tr th {\n",
       "        vertical-align: top;\n",
       "    }\n",
       "\n",
       "    .dataframe thead th {\n",
       "        text-align: right;\n",
       "    }\n",
       "</style>\n",
       "<table border=\"1\" class=\"dataframe\">\n",
       "  <thead>\n",
       "    <tr style=\"text-align: right;\">\n",
       "      <th></th>\n",
       "      <th>\"INC NUMBER\"</th>\n",
       "    </tr>\n",
       "    <tr>\n",
       "      <th>\"PREMISE TYPE\"</th>\n",
       "      <th></th>\n",
       "    </tr>\n",
       "  </thead>\n",
       "  <tbody>\n",
       "    <tr>\n",
       "      <th>\"SINGLE FAMILY HOUSE\"</th>\n",
       "      <td>25329</td>\n",
       "    </tr>\n",
       "    <tr>\n",
       "      <th>\"APARTMENT\"</th>\n",
       "      <td>14957</td>\n",
       "    </tr>\n",
       "    <tr>\n",
       "      <th>\"PARKING LOT\"</th>\n",
       "      <td>14148</td>\n",
       "    </tr>\n",
       "    <tr>\n",
       "      <th>\"STREET / ROADWAY / ALLEY / SIDEWALK\"</th>\n",
       "      <td>11596</td>\n",
       "    </tr>\n",
       "    <tr>\n",
       "      <th>\"RETAIL BUSINESS\"</th>\n",
       "      <td>10852</td>\n",
       "    </tr>\n",
       "    <tr>\n",
       "      <th>...</th>\n",
       "      <td>...</td>\n",
       "    </tr>\n",
       "    <tr>\n",
       "      <th>\"GAMBLING FACILITY/CASINO/RACE TRACK\"</th>\n",
       "      <td>2</td>\n",
       "    </tr>\n",
       "    <tr>\n",
       "      <th>\"LAKE / WATERWAY / BEACH\"</th>\n",
       "      <td>1</td>\n",
       "    </tr>\n",
       "    <tr>\n",
       "      <th>\"TRIBAL LANDS\"</th>\n",
       "      <td>1</td>\n",
       "    </tr>\n",
       "    <tr>\n",
       "      <th>\"REST AREA\"</th>\n",
       "      <td>1</td>\n",
       "    </tr>\n",
       "    <tr>\n",
       "      <th>\"A</th>\n",
       "      <td>1</td>\n",
       "    </tr>\n",
       "  </tbody>\n",
       "</table>\n",
       "<p>94 rows × 1 columns</p>\n",
       "</div>"
      ],
      "text/plain": [
       "                                       \"INC NUMBER\"\n",
       "\"PREMISE TYPE\"                                     \n",
       "\"SINGLE FAMILY HOUSE\"                         25329\n",
       "\"APARTMENT\"                                   14957\n",
       "\"PARKING LOT\"                                 14148\n",
       "\"STREET / ROADWAY / ALLEY / SIDEWALK\"         11596\n",
       "\"RETAIL BUSINESS\"                             10852\n",
       "...                                             ...\n",
       "\"GAMBLING FACILITY/CASINO/RACE TRACK\"             2\n",
       "\"LAKE / WATERWAY / BEACH\"                         1\n",
       "\"TRIBAL LANDS\"                                    1\n",
       "\"REST AREA\"                                       1\n",
       "\"A                                                1\n",
       "\n",
       "[94 rows x 1 columns]"
      ]
     },
     "execution_count": 12,
     "metadata": {},
     "output_type": "execute_result"
    }
   ],
   "source": [
    "# grouping crimes by location type or by zip code\n",
    "location_type_counts = df.groupby('\"PREMISE TYPE\"').count()['\"INC NUMBER\"'].sort_values(ascending = False)\n",
    "pd.DataFrame(location_type_counts)"
   ]
  },
  {
   "cell_type": "markdown",
   "metadata": {},
   "source": [
    "We can see from above that single family homes are the most frequent places for crime to occur in Pheonix according to this data"
   ]
  },
  {
   "cell_type": "code",
   "execution_count": 13,
   "metadata": {},
   "outputs": [
    {
     "data": {
      "text/html": [
       "<div>\n",
       "<style scoped>\n",
       "    .dataframe tbody tr th:only-of-type {\n",
       "        vertical-align: middle;\n",
       "    }\n",
       "\n",
       "    .dataframe tbody tr th {\n",
       "        vertical-align: top;\n",
       "    }\n",
       "\n",
       "    .dataframe thead th {\n",
       "        text-align: right;\n",
       "    }\n",
       "</style>\n",
       "<table border=\"1\" class=\"dataframe\">\n",
       "  <thead>\n",
       "    <tr style=\"text-align: right;\">\n",
       "      <th></th>\n",
       "      <th>\"INC NUMBER\"</th>\n",
       "    </tr>\n",
       "    <tr>\n",
       "      <th>\"ZIP\"</th>\n",
       "      <th></th>\n",
       "    </tr>\n",
       "  </thead>\n",
       "  <tbody>\n",
       "    <tr>\n",
       "      <th>85015.0</th>\n",
       "      <td>6963</td>\n",
       "    </tr>\n",
       "    <tr>\n",
       "      <th>85008.0</th>\n",
       "      <td>6320</td>\n",
       "    </tr>\n",
       "    <tr>\n",
       "      <th>85009.0</th>\n",
       "      <td>5513</td>\n",
       "    </tr>\n",
       "    <tr>\n",
       "      <th>85041.0</th>\n",
       "      <td>5477</td>\n",
       "    </tr>\n",
       "    <tr>\n",
       "      <th>85051.0</th>\n",
       "      <td>5389</td>\n",
       "    </tr>\n",
       "    <tr>\n",
       "      <th>...</th>\n",
       "      <td>...</td>\n",
       "    </tr>\n",
       "    <tr>\n",
       "      <th>85248.0</th>\n",
       "      <td>1</td>\n",
       "    </tr>\n",
       "    <tr>\n",
       "      <th>85233.0</th>\n",
       "      <td>1</td>\n",
       "    </tr>\n",
       "    <tr>\n",
       "      <th>85226.0</th>\n",
       "      <td>1</td>\n",
       "    </tr>\n",
       "    <tr>\n",
       "      <th>85204.0</th>\n",
       "      <td>1</td>\n",
       "    </tr>\n",
       "    <tr>\n",
       "      <th>85212.0</th>\n",
       "      <td>1</td>\n",
       "    </tr>\n",
       "  </tbody>\n",
       "</table>\n",
       "<p>98 rows × 1 columns</p>\n",
       "</div>"
      ],
      "text/plain": [
       "         \"INC NUMBER\"\n",
       "\"ZIP\"                \n",
       "85015.0          6963\n",
       "85008.0          6320\n",
       "85009.0          5513\n",
       "85041.0          5477\n",
       "85051.0          5389\n",
       "...               ...\n",
       "85248.0             1\n",
       "85233.0             1\n",
       "85226.0             1\n",
       "85204.0             1\n",
       "85212.0             1\n",
       "\n",
       "[98 rows x 1 columns]"
      ]
     },
     "execution_count": 13,
     "metadata": {},
     "output_type": "execute_result"
    }
   ],
   "source": [
    "zip_code_counts = df.groupby('\"ZIP\"').count()['\"INC NUMBER\"'].sort_values(ascending = False)\n",
    "pd.DataFrame(zip_code_counts)"
   ]
  },
  {
   "cell_type": "markdown",
   "metadata": {},
   "source": [
    "We can see from the above dataframe that zip code \"85015\" is the most crime-ridden zip with 6,963 crimes."
   ]
  },
  {
   "cell_type": "code",
   "execution_count": 15,
   "metadata": {},
   "outputs": [],
   "source": [
    "# look at unique zip codes\n",
    "zip_codes = df['\"ZIP\"'].sort_values(ascending = False)"
   ]
  },
  {
   "cell_type": "code",
   "execution_count": 18,
   "metadata": {},
   "outputs": [
    {
     "data": {
      "text/html": [
       "<div>\n",
       "<style scoped>\n",
       "    .dataframe tbody tr th:only-of-type {\n",
       "        vertical-align: middle;\n",
       "    }\n",
       "\n",
       "    .dataframe tbody tr th {\n",
       "        vertical-align: top;\n",
       "    }\n",
       "\n",
       "    .dataframe thead th {\n",
       "        text-align: right;\n",
       "    }\n",
       "</style>\n",
       "<table border=\"1\" class=\"dataframe\">\n",
       "  <thead>\n",
       "    <tr style=\"text-align: right;\">\n",
       "      <th></th>\n",
       "      <th>\"INC NUMBER\"</th>\n",
       "    </tr>\n",
       "    <tr>\n",
       "      <th>ZIP_GROUP</th>\n",
       "      <th></th>\n",
       "    </tr>\n",
       "  </thead>\n",
       "  <tbody>\n",
       "    <tr>\n",
       "      <th>85000-85050</th>\n",
       "      <td>112697</td>\n",
       "    </tr>\n",
       "    <tr>\n",
       "      <th>85050-85100</th>\n",
       "      <td>10669</td>\n",
       "    </tr>\n",
       "    <tr>\n",
       "      <th>85100+</th>\n",
       "      <td>8308</td>\n",
       "    </tr>\n",
       "  </tbody>\n",
       "</table>\n",
       "</div>"
      ],
      "text/plain": [
       "             \"INC NUMBER\"\n",
       "ZIP_GROUP                \n",
       "85000-85050        112697\n",
       "85050-85100         10669\n",
       "85100+               8308"
      ]
     },
     "execution_count": 18,
     "metadata": {},
     "output_type": "execute_result"
    }
   ],
   "source": [
    "# create a grouped zip code column to look at groups of zips\n",
    "df.loc[df['\"ZIP\"'].between(85000, 85050, 'both'), 'ZIP_GROUP'] = '85000-85050'\n",
    "df.loc[df['\"ZIP\"'].between(85050, 85200, 'right'), 'ZIP_GROUP'] = '85050-85100'\n",
    "df.loc[df['\"ZIP\"'].between(85100, 85400, 'right'), 'ZIP_GROUP'] = '85100+'\n",
    "\n",
    "zip_code_counts_grouped = df.groupby('ZIP_GROUP').count()['\"INC NUMBER\"'].sort_values(ascending = False)\n",
    "pd.DataFrame(zip_code_counts_grouped)"
   ]
  },
  {
   "cell_type": "code",
   "execution_count": 21,
   "metadata": {},
   "outputs": [
    {
     "data": {
      "text/html": [
       "<div>\n",
       "<style scoped>\n",
       "    .dataframe tbody tr th:only-of-type {\n",
       "        vertical-align: middle;\n",
       "    }\n",
       "\n",
       "    .dataframe tbody tr th {\n",
       "        vertical-align: top;\n",
       "    }\n",
       "\n",
       "    .dataframe thead th {\n",
       "        text-align: right;\n",
       "    }\n",
       "</style>\n",
       "<table border=\"1\" class=\"dataframe\">\n",
       "  <thead>\n",
       "    <tr style=\"text-align: right;\">\n",
       "      <th></th>\n",
       "      <th></th>\n",
       "      <th>\"INC NUMBER\"</th>\n",
       "    </tr>\n",
       "    <tr>\n",
       "      <th>\"UCR CRIME CATEGORY\"</th>\n",
       "      <th>\"ZIP\"</th>\n",
       "      <th></th>\n",
       "    </tr>\n",
       "  </thead>\n",
       "  <tbody>\n",
       "    <tr>\n",
       "      <th rowspan=\"5\" valign=\"top\">\"LARCENY-THEFT\"</th>\n",
       "      <th>85015.0</th>\n",
       "      <td>3636</td>\n",
       "    </tr>\n",
       "    <tr>\n",
       "      <th>85008.0</th>\n",
       "      <td>3196</td>\n",
       "    </tr>\n",
       "    <tr>\n",
       "      <th>85051.0</th>\n",
       "      <td>2598</td>\n",
       "    </tr>\n",
       "    <tr>\n",
       "      <th>85041.0</th>\n",
       "      <td>2548</td>\n",
       "    </tr>\n",
       "    <tr>\n",
       "      <th>85032.0</th>\n",
       "      <td>2533</td>\n",
       "    </tr>\n",
       "    <tr>\n",
       "      <th>...</th>\n",
       "      <th>...</th>\n",
       "      <td>...</td>\n",
       "    </tr>\n",
       "    <tr>\n",
       "      <th>\"MOTOR VEHICLE THEFT\"</th>\n",
       "      <th>85396.0</th>\n",
       "      <td>1</td>\n",
       "    </tr>\n",
       "    <tr>\n",
       "      <th rowspan=\"3\" valign=\"top\">\"LARCENY-THEFT\"</th>\n",
       "      <th>85257.0</th>\n",
       "      <td>1</td>\n",
       "    </tr>\n",
       "    <tr>\n",
       "      <th>85266.0</th>\n",
       "      <td>1</td>\n",
       "    </tr>\n",
       "    <tr>\n",
       "      <th>85268.0</th>\n",
       "      <td>1</td>\n",
       "    </tr>\n",
       "    <tr>\n",
       "      <th>\"MOTOR VEHICLE THEFT\"</th>\n",
       "      <th>85257.0</th>\n",
       "      <td>1</td>\n",
       "    </tr>\n",
       "  </tbody>\n",
       "</table>\n",
       "<p>561 rows × 1 columns</p>\n",
       "</div>"
      ],
      "text/plain": [
       "                               \"INC NUMBER\"\n",
       "\"UCR CRIME CATEGORY\"  \"ZIP\"                \n",
       "\"LARCENY-THEFT\"       85015.0          3636\n",
       "                      85008.0          3196\n",
       "                      85051.0          2598\n",
       "                      85041.0          2548\n",
       "                      85032.0          2533\n",
       "...                                     ...\n",
       "\"MOTOR VEHICLE THEFT\" 85396.0             1\n",
       "\"LARCENY-THEFT\"       85257.0             1\n",
       "                      85266.0             1\n",
       "                      85268.0             1\n",
       "\"MOTOR VEHICLE THEFT\" 85257.0             1\n",
       "\n",
       "[561 rows x 1 columns]"
      ]
     },
     "execution_count": 21,
     "metadata": {},
     "output_type": "execute_result"
    }
   ],
   "source": [
    "# looking at types of crimes and where they are most common\n",
    "most_common = df.groupby(['\"UCR CRIME CATEGORY\"','\"ZIP\"']).count()['\"INC NUMBER\"'].sort_values(ascending = False)\n",
    "\n",
    "pd.DataFrame(most_common)"
   ]
  },
  {
   "cell_type": "code",
   "execution_count": 23,
   "metadata": {},
   "outputs": [
    {
     "data": {
      "text/plain": [
       "<AxesSubplot:xlabel='\"OCCURRED ON\"'>"
      ]
     },
     "execution_count": 23,
     "metadata": {},
     "output_type": "execute_result"
    },
    {
     "data": {
      "image/png": "[encoded data removed]",
      "text/plain": [
       "<Figure size 432x288 with 1 Axes>"
      ]
     },
     "metadata": {
      "needs_background": "light"
     },
     "output_type": "display_data"
    }
   ],
   "source": [
    "# change in crime over time\n",
    "df.groupby('\"OCCURRED ON\"').count()['\"INC NUMBER\"'].plot.line()"
   ]
  },
  {
   "cell_type": "code",
   "execution_count": 24,
   "metadata": {},
   "outputs": [
    {
     "data": {
      "image/png": "[encoded data removed]",
      "text/plain": [
       "<Figure size 432x288 with 1 Axes>"
      ]
     },
     "metadata": {
      "needs_background": "light"
     },
     "output_type": "display_data"
    }
   ],
   "source": [
    "# changes in crime over time by zip group\n",
    "subset1 = df[df['ZIP_GROUP'] == '85000-85050']\n",
    "subset2 = df[df['ZIP_GROUP'] == '85050-85100']\n",
    "subset3 = df[df['ZIP_GROUP'] == '85100+']\n",
    "\n",
    "subset_list = [subset1, subset2, subset3]\n",
    "\n",
    "for df in subset_list:\n",
    "    df.groupby('\"OCCURRED ON\"').count()['\"INC NUMBER\"'].plot.line()"
   ]
  },
  {
   "cell_type": "code",
   "execution_count": 25,
   "metadata": {},
   "outputs": [
    {
     "data": {
      "text/plain": [
       "<AxesSubplot:xlabel='\"OCCURRED ON\"'>"
      ]
     },
     "execution_count": 25,
     "metadata": {},
     "output_type": "execute_result"
    },
    {
     "data": {
      "image/png": "[encoded data removed]",
      "text/plain": [
       "<Figure size 432x288 with 1 Axes>"
      ]
     },
     "metadata": {
      "needs_background": "light"
     },
     "output_type": "display_data"
    }
   ],
   "source": [
    "subset1.groupby('\"OCCURRED ON\"').count()['\"INC NUMBER\"'].plot.line()"
   ]
  },
  {
   "cell_type": "code",
   "execution_count": 26,
   "metadata": {},
   "outputs": [
    {
     "data": {
      "text/plain": [
       "<AxesSubplot:xlabel='\"OCCURRED ON\"'>"
      ]
     },
     "execution_count": 26,
     "metadata": {},
     "output_type": "execute_result"
    },
    {
     "data": {
      "image/png": "[encoded data removed]",
      "text/plain": [
       "<Figure size 432x288 with 1 Axes>"
      ]
     },
     "metadata": {
      "needs_background": "light"
     },
     "output_type": "display_data"
    }
   ],
   "source": [
    "subset2.groupby('\"OCCURRED ON\"').count()['\"INC NUMBER\"'].plot.line()"
   ]
  },
  {
   "cell_type": "code",
   "execution_count": 27,
   "metadata": {},
   "outputs": [
    {
     "data": {
      "text/plain": [
       "<AxesSubplot:xlabel='\"OCCURRED ON\"'>"
      ]
     },
     "execution_count": 27,
     "metadata": {},
     "output_type": "execute_result"
    },
    {
     "data": {
      "image/png": "[encoded data removed]",
      "text/plain": [
       "<Figure size 432x288 with 1 Axes>"
      ]
     },
     "metadata": {
      "needs_background": "light"
     },
     "output_type": "display_data"
    }
   ],
   "source": [
    "subset3.groupby('\"OCCURRED ON\"').count()['\"INC NUMBER\"'].plot.line()"
   ]
  },
  {
   "cell_type": "markdown",
   "metadata": {},
   "source": [
    "Ideally I would have population count for each of these zip codes to calculate a true crime rate per capita. However, we do see some useful information from these graphs. For example, we see that there may be a cyclical pattern to crime, which makes sense. For example, in the first graph, which looks at crime for zip codes 85000-85050 we see that crime is peaking in January of both of these years. This is interesting because we saw earlier that the most frequent type of crime happens in single family homes. According to the Bureau of Justice (https://bjs.ojp.gov/content/pub/pdf/ics.pdf) crimes against property peak in the winter and crimes against people occur more frequently in the summer. We also see a general upward trend of crimes for zip codes 85000-85050, which is something constituents and leadership should definitely keep an eye on and continue to explore. "
   ]
  }
 ],
 "metadata": {
  "kernelspec": {
   "display_name": "Python 3",
   "language": "python",
   "name": "python3"
  },
  "language_info": {
   "codemirror_mode": {
    "name": "ipython",
    "version": 3
   },
   "file_extension": ".py",
   "mimetype": "text/x-python",
   "name": "python",
   "nbconvert_exporter": "python",
   "pygments_lexer": "ipython3",
   "version": "3.8.5"
  }
 },
 "nbformat": 4,
 "nbformat_minor": 4
}
