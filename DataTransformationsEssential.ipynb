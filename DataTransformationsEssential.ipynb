{
 "cells": [
  {
   "cell_type": "markdown",
   "metadata": {},
   "source": [
    "Essentials\n",
    "\n",
    "Once you hold the basics badge you may choose add to this work to attain the \"essentials\" level of this badge to do so, you should add more data to reach new kinds of conclusions. At a minimum, this should:\n",
    "\n",
    "Draw on multiple sources of data and see how it intersects with the crime data. There are tons of sources you might draw from: housing sales, car traffic, weather, etc.\n",
    "- There should be a minimum of one additional data source\n",
    "- You should produce, at minimum, one scatter plot and one bar chart.\n",
    "- You may, if you like, explore some regressions. It would be good practice. It is not, however, strictly required.\n",
    "\n",
    "Store a resulting data set as a CSV. The CSV may be placed in a dropbox, Google Drive, or elsewhere (so as not to use up space on your Github account). Make sure you clearly differentiate your notebook as being for module 3 essentials, so that there is no confusion between this work and the work for basics. There is no quiz for this one. You need to have successfully completed the \"basics\" level and the \"essentials\" project on top of this. Make sure the two outcomes are separate sets of files (though, of course, the latter may build on the former)."
   ]
  },
  {
   "cell_type": "raw",
   "metadata": {},
   "source": [
    "For this module, I wanted to continue my exploration of Pheonix crime data by exploring a hypothesis I made in the Basics module that there may be a relationship between temperature or weather and crime occurences. To answer this question, I will be merging the Pheonix crime data with historic temperature data which I found online at MetoBlue.com "
   ]
  },
  {
   "cell_type": "code",
   "execution_count": 1,
   "metadata": {},
   "outputs": [],
   "source": [
    "# importing required packages\n",
    "import pandas as pd\n",
    "import numpy as np\n",
    "import csv\n",
    "import matplotlib.pyplot as plt\n",
    "from sklearn.linear_model import LinearRegression"
   ]
  },
  {
   "cell_type": "code",
   "execution_count": 3,
   "metadata": {},
   "outputs": [],
   "source": [
    "# reading in crime data\n",
    "df = pd.read_csv('Desktop/crimestat2.csv', quoting=csv.QUOTE_NONE)\n",
    "\n",
    "# read in weather data\n",
    "weather = pd.read_csv('Desktop/weather.csv')"
   ]
  },
  {
   "cell_type": "code",
   "execution_count": 4,
   "metadata": {},
   "outputs": [
    {
     "data": {
      "text/html": [
       "<div>\n",
       "<style scoped>\n",
       "    .dataframe tbody tr th:only-of-type {\n",
       "        vertical-align: middle;\n",
       "    }\n",
       "\n",
       "    .dataframe tbody tr th {\n",
       "        vertical-align: top;\n",
       "    }\n",
       "\n",
       "    .dataframe thead th {\n",
       "        text-align: right;\n",
       "    }\n",
       "</style>\n",
       "<table border=\"1\" class=\"dataframe\">\n",
       "  <thead>\n",
       "    <tr style=\"text-align: right;\">\n",
       "      <th></th>\n",
       "      <th>\"INC NUMBER\"</th>\n",
       "      <th>\"OCCURRED ON\"</th>\n",
       "      <th>\"OCCURRED TO\"</th>\n",
       "      <th>\"UCR CRIME CATEGORY\"</th>\n",
       "      <th>\"100 BLOCK ADDR\"</th>\n",
       "      <th>\"ZIP\"</th>\n",
       "      <th>\"PREMISE TYPE\"</th>\n",
       "    </tr>\n",
       "  </thead>\n",
       "  <tbody>\n",
       "    <tr>\n",
       "      <th>0</th>\n",
       "      <td>\"201600000052855\"</td>\n",
       "      <td>11/01/2015  00:00</td>\n",
       "      <td>01/09/2016  00:00</td>\n",
       "      <td>\"MOTOR VEHICLE THEFT\"</td>\n",
       "      <td>\"N 43RD AVE &amp; W CACTUS RD\"</td>\n",
       "      <td>\"85029\"</td>\n",
       "      <td>\"SINGLE FAMILY HOUSE\"</td>\n",
       "    </tr>\n",
       "    <tr>\n",
       "      <th>1</th>\n",
       "      <td>\"201600000594484\"</td>\n",
       "      <td>11/01/2015  00:00</td>\n",
       "      <td>NaN</td>\n",
       "      <td>\"RAPE\"</td>\n",
       "      <td>\"13XX E ALMERIA RD\"</td>\n",
       "      <td>\"85006\"</td>\n",
       "      <td>\"SINGLE FAMILY HOUSE\"</td>\n",
       "    </tr>\n",
       "    <tr>\n",
       "      <th>2</th>\n",
       "      <td>\"201500002102327\"</td>\n",
       "      <td>11/01/2015  00:00</td>\n",
       "      <td>11/01/2015  09:00</td>\n",
       "      <td>\"LARCENY-THEFT\"</td>\n",
       "      <td>\"51XX N 15TH ST\"</td>\n",
       "      <td>\"85014\"</td>\n",
       "      <td>\"APARTMENT\"</td>\n",
       "    </tr>\n",
       "    <tr>\n",
       "      <th>3</th>\n",
       "      <td>\"201500002101405\"</td>\n",
       "      <td>11/01/2015  00:00</td>\n",
       "      <td>11/01/2015  05:00</td>\n",
       "      <td>\"MOTOR VEHICLE THEFT\"</td>\n",
       "      <td>\"102XX W MEDLOCK AVE\"</td>\n",
       "      <td>\"85307\"</td>\n",
       "      <td>\"SINGLE FAMILY HOUSE\"</td>\n",
       "    </tr>\n",
       "    <tr>\n",
       "      <th>4</th>\n",
       "      <td>\"201500002102668\"</td>\n",
       "      <td>11/01/2015  00:00</td>\n",
       "      <td>11/01/2015  11:50</td>\n",
       "      <td>\"MOTOR VEHICLE THEFT\"</td>\n",
       "      <td>\"69XX W WOOD ST\"</td>\n",
       "      <td>\"85043\"</td>\n",
       "      <td>\"SINGLE FAMILY HOUSE\"</td>\n",
       "    </tr>\n",
       "  </tbody>\n",
       "</table>\n",
       "</div>"
      ],
      "text/plain": [
       "        \"INC NUMBER\"      \"OCCURRED ON\"      \"OCCURRED TO\"  \\\n",
       "0  \"201600000052855\"  11/01/2015  00:00  01/09/2016  00:00   \n",
       "1  \"201600000594484\"  11/01/2015  00:00                NaN   \n",
       "2  \"201500002102327\"  11/01/2015  00:00  11/01/2015  09:00   \n",
       "3  \"201500002101405\"  11/01/2015  00:00  11/01/2015  05:00   \n",
       "4  \"201500002102668\"  11/01/2015  00:00  11/01/2015  11:50   \n",
       "\n",
       "    \"UCR CRIME CATEGORY\"            \"100 BLOCK ADDR\"    \"ZIP\"  \\\n",
       "0  \"MOTOR VEHICLE THEFT\"  \"N 43RD AVE & W CACTUS RD\"  \"85029\"   \n",
       "1                 \"RAPE\"         \"13XX E ALMERIA RD\"  \"85006\"   \n",
       "2        \"LARCENY-THEFT\"            \"51XX N 15TH ST\"  \"85014\"   \n",
       "3  \"MOTOR VEHICLE THEFT\"       \"102XX W MEDLOCK AVE\"  \"85307\"   \n",
       "4  \"MOTOR VEHICLE THEFT\"            \"69XX W WOOD ST\"  \"85043\"   \n",
       "\n",
       "          \"PREMISE TYPE\"  \n",
       "0  \"SINGLE FAMILY HOUSE\"  \n",
       "1  \"SINGLE FAMILY HOUSE\"  \n",
       "2            \"APARTMENT\"  \n",
       "3  \"SINGLE FAMILY HOUSE\"  \n",
       "4  \"SINGLE FAMILY HOUSE\"  "
      ]
     },
     "execution_count": 4,
     "metadata": {},
     "output_type": "execute_result"
    }
   ],
   "source": [
    "df.head()"
   ]
  },
  {
   "cell_type": "code",
   "execution_count": 6,
   "metadata": {},
   "outputs": [
    {
     "data": {
      "text/html": [
       "<div>\n",
       "<style scoped>\n",
       "    .dataframe tbody tr th:only-of-type {\n",
       "        vertical-align: middle;\n",
       "    }\n",
       "\n",
       "    .dataframe tbody tr th {\n",
       "        vertical-align: top;\n",
       "    }\n",
       "\n",
       "    .dataframe thead th {\n",
       "        text-align: right;\n",
       "    }\n",
       "</style>\n",
       "<table border=\"1\" class=\"dataframe\">\n",
       "  <thead>\n",
       "    <tr style=\"text-align: right;\">\n",
       "      <th></th>\n",
       "      <th>location</th>\n",
       "      <th>Basel</th>\n",
       "      <th>Basel.1</th>\n",
       "      <th>Basel.2</th>\n",
       "      <th>Basel.3</th>\n",
       "      <th>date</th>\n",
       "      <th>temp</th>\n",
       "    </tr>\n",
       "  </thead>\n",
       "  <tbody>\n",
       "    <tr>\n",
       "      <th>9</th>\n",
       "      <td>20151031T0000</td>\n",
       "      <td>46.616444</td>\n",
       "      <td>91.93809</td>\n",
       "      <td>5.815978</td>\n",
       "      <td>111.80141</td>\n",
       "      <td>2015-10-31</td>\n",
       "      <td>46.616444</td>\n",
       "    </tr>\n",
       "    <tr>\n",
       "      <th>10</th>\n",
       "      <td>20151031T0100</td>\n",
       "      <td>46.688442</td>\n",
       "      <td>91.687454</td>\n",
       "      <td>5.154415</td>\n",
       "      <td>114.77514</td>\n",
       "      <td>2015-10-31</td>\n",
       "      <td>46.688442</td>\n",
       "    </tr>\n",
       "    <tr>\n",
       "      <th>11</th>\n",
       "      <td>20151031T0200</td>\n",
       "      <td>47.066444</td>\n",
       "      <td>92.46407</td>\n",
       "      <td>4.6938257</td>\n",
       "      <td>122.47119</td>\n",
       "      <td>2015-10-31</td>\n",
       "      <td>47.066444</td>\n",
       "    </tr>\n",
       "    <tr>\n",
       "      <th>12</th>\n",
       "      <td>20151031T0300</td>\n",
       "      <td>46.54444</td>\n",
       "      <td>94.24611</td>\n",
       "      <td>4.5820518</td>\n",
       "      <td>135.0</td>\n",
       "      <td>2015-10-31</td>\n",
       "      <td>46.544440</td>\n",
       "    </tr>\n",
       "    <tr>\n",
       "      <th>13</th>\n",
       "      <td>20151031T0400</td>\n",
       "      <td>45.77044</td>\n",
       "      <td>95.33506</td>\n",
       "      <td>4.072935</td>\n",
       "      <td>135.0</td>\n",
       "      <td>2015-10-31</td>\n",
       "      <td>45.770440</td>\n",
       "    </tr>\n",
       "  </tbody>\n",
       "</table>\n",
       "</div>"
      ],
      "text/plain": [
       "         location      Basel    Basel.1    Basel.2    Basel.3        date  \\\n",
       "9   20151031T0000  46.616444   91.93809   5.815978  111.80141  2015-10-31   \n",
       "10  20151031T0100  46.688442  91.687454   5.154415  114.77514  2015-10-31   \n",
       "11  20151031T0200  47.066444   92.46407  4.6938257  122.47119  2015-10-31   \n",
       "12  20151031T0300   46.54444   94.24611  4.5820518      135.0  2015-10-31   \n",
       "13  20151031T0400   45.77044   95.33506   4.072935      135.0  2015-10-31   \n",
       "\n",
       "         temp  \n",
       "9   46.616444  \n",
       "10  46.688442  \n",
       "11  47.066444  \n",
       "12  46.544440  \n",
       "13  45.770440  "
      ]
     },
     "execution_count": 6,
     "metadata": {},
     "output_type": "execute_result"
    }
   ],
   "source": [
    "# ignore first 9 lines which are unneccessary information for analysis \n",
    "weather = weather.iloc[9:,]\n",
    "# turn date field into datetime\n",
    "weather['date'] = pd.to_datetime(weather['location']).dt.date\n",
    "#turn weather into numeric\n",
    "weather['temp'] = pd.to_numeric(weather['Basel'].str.strip('\"'))\n",
    "\n",
    "# preview weather data frame\n",
    "weather.head()\n"
   ]
  },
  {
   "cell_type": "code",
   "execution_count": 8,
   "metadata": {},
   "outputs": [
    {
     "data": {
      "text/plain": [
       "date\n",
       "2015-10-31    49.054691\n",
       "2015-11-01    46.836941\n",
       "2015-11-02    45.361691\n",
       "2015-11-03    44.512691\n",
       "2015-11-04    48.238691\n",
       "Name: temp, dtype: float64"
      ]
     },
     "execution_count": 8,
     "metadata": {},
     "output_type": "execute_result"
    }
   ],
   "source": [
    "# group by day to find average temp by day\n",
    "weather_grouped = weather.groupby('date')['temp'].mean()\n",
    "weather_grouped.head()"
   ]
  },
  {
   "cell_type": "code",
   "execution_count": 10,
   "metadata": {},
   "outputs": [],
   "source": [
    "# strip quotes, transform date to datetime, transform zip to int for Pheonix dataset\n",
    "df['date'] = pd.to_datetime(df['\"OCCURRED ON\"']).dt.date\n",
    "df['ZIP'] = pd.to_numeric(df['\"ZIP\"'].str.strip('\"'))"
   ]
  },
  {
   "cell_type": "markdown",
   "metadata": {},
   "source": [
    "Finally ready to merge the two dataframes!"
   ]
  },
  {
   "cell_type": "code",
   "execution_count": 12,
   "metadata": {},
   "outputs": [
    {
     "data": {
      "text/html": [
       "<div>\n",
       "<style scoped>\n",
       "    .dataframe tbody tr th:only-of-type {\n",
       "        vertical-align: middle;\n",
       "    }\n",
       "\n",
       "    .dataframe tbody tr th {\n",
       "        vertical-align: top;\n",
       "    }\n",
       "\n",
       "    .dataframe thead th {\n",
       "        text-align: right;\n",
       "    }\n",
       "</style>\n",
       "<table border=\"1\" class=\"dataframe\">\n",
       "  <thead>\n",
       "    <tr style=\"text-align: right;\">\n",
       "      <th></th>\n",
       "      <th>\"INC NUMBER\"</th>\n",
       "      <th>\"OCCURRED ON\"</th>\n",
       "      <th>\"OCCURRED TO\"</th>\n",
       "      <th>\"UCR CRIME CATEGORY\"</th>\n",
       "      <th>\"100 BLOCK ADDR\"</th>\n",
       "      <th>\"ZIP\"</th>\n",
       "      <th>\"PREMISE TYPE\"</th>\n",
       "      <th>date</th>\n",
       "      <th>ZIP</th>\n",
       "      <th>temp</th>\n",
       "      <th>_merge</th>\n",
       "    </tr>\n",
       "  </thead>\n",
       "  <tbody>\n",
       "    <tr>\n",
       "      <th>0</th>\n",
       "      <td>\"201600000052855\"</td>\n",
       "      <td>11/01/2015  00:00</td>\n",
       "      <td>01/09/2016  00:00</td>\n",
       "      <td>\"MOTOR VEHICLE THEFT\"</td>\n",
       "      <td>\"N 43RD AVE &amp; W CACTUS RD\"</td>\n",
       "      <td>\"85029\"</td>\n",
       "      <td>\"SINGLE FAMILY HOUSE\"</td>\n",
       "      <td>2015-11-01</td>\n",
       "      <td>85029.0</td>\n",
       "      <td>46.836941</td>\n",
       "      <td>both</td>\n",
       "    </tr>\n",
       "    <tr>\n",
       "      <th>1</th>\n",
       "      <td>\"201600000594484\"</td>\n",
       "      <td>11/01/2015  00:00</td>\n",
       "      <td>NaN</td>\n",
       "      <td>\"RAPE\"</td>\n",
       "      <td>\"13XX E ALMERIA RD\"</td>\n",
       "      <td>\"85006\"</td>\n",
       "      <td>\"SINGLE FAMILY HOUSE\"</td>\n",
       "      <td>2015-11-01</td>\n",
       "      <td>85006.0</td>\n",
       "      <td>46.836941</td>\n",
       "      <td>both</td>\n",
       "    </tr>\n",
       "    <tr>\n",
       "      <th>2</th>\n",
       "      <td>\"201500002102327\"</td>\n",
       "      <td>11/01/2015  00:00</td>\n",
       "      <td>11/01/2015  09:00</td>\n",
       "      <td>\"LARCENY-THEFT\"</td>\n",
       "      <td>\"51XX N 15TH ST\"</td>\n",
       "      <td>\"85014\"</td>\n",
       "      <td>\"APARTMENT\"</td>\n",
       "      <td>2015-11-01</td>\n",
       "      <td>85014.0</td>\n",
       "      <td>46.836941</td>\n",
       "      <td>both</td>\n",
       "    </tr>\n",
       "    <tr>\n",
       "      <th>3</th>\n",
       "      <td>\"201500002101405\"</td>\n",
       "      <td>11/01/2015  00:00</td>\n",
       "      <td>11/01/2015  05:00</td>\n",
       "      <td>\"MOTOR VEHICLE THEFT\"</td>\n",
       "      <td>\"102XX W MEDLOCK AVE\"</td>\n",
       "      <td>\"85307\"</td>\n",
       "      <td>\"SINGLE FAMILY HOUSE\"</td>\n",
       "      <td>2015-11-01</td>\n",
       "      <td>85307.0</td>\n",
       "      <td>46.836941</td>\n",
       "      <td>both</td>\n",
       "    </tr>\n",
       "    <tr>\n",
       "      <th>4</th>\n",
       "      <td>\"201500002102668\"</td>\n",
       "      <td>11/01/2015  00:00</td>\n",
       "      <td>11/01/2015  11:50</td>\n",
       "      <td>\"MOTOR VEHICLE THEFT\"</td>\n",
       "      <td>\"69XX W WOOD ST\"</td>\n",
       "      <td>\"85043\"</td>\n",
       "      <td>\"SINGLE FAMILY HOUSE\"</td>\n",
       "      <td>2015-11-01</td>\n",
       "      <td>85043.0</td>\n",
       "      <td>46.836941</td>\n",
       "      <td>both</td>\n",
       "    </tr>\n",
       "  </tbody>\n",
       "</table>\n",
       "</div>"
      ],
      "text/plain": [
       "        \"INC NUMBER\"      \"OCCURRED ON\"      \"OCCURRED TO\"  \\\n",
       "0  \"201600000052855\"  11/01/2015  00:00  01/09/2016  00:00   \n",
       "1  \"201600000594484\"  11/01/2015  00:00                NaN   \n",
       "2  \"201500002102327\"  11/01/2015  00:00  11/01/2015  09:00   \n",
       "3  \"201500002101405\"  11/01/2015  00:00  11/01/2015  05:00   \n",
       "4  \"201500002102668\"  11/01/2015  00:00  11/01/2015  11:50   \n",
       "\n",
       "    \"UCR CRIME CATEGORY\"            \"100 BLOCK ADDR\"    \"ZIP\"  \\\n",
       "0  \"MOTOR VEHICLE THEFT\"  \"N 43RD AVE & W CACTUS RD\"  \"85029\"   \n",
       "1                 \"RAPE\"         \"13XX E ALMERIA RD\"  \"85006\"   \n",
       "2        \"LARCENY-THEFT\"            \"51XX N 15TH ST\"  \"85014\"   \n",
       "3  \"MOTOR VEHICLE THEFT\"       \"102XX W MEDLOCK AVE\"  \"85307\"   \n",
       "4  \"MOTOR VEHICLE THEFT\"            \"69XX W WOOD ST\"  \"85043\"   \n",
       "\n",
       "          \"PREMISE TYPE\"        date      ZIP       temp _merge  \n",
       "0  \"SINGLE FAMILY HOUSE\"  2015-11-01  85029.0  46.836941   both  \n",
       "1  \"SINGLE FAMILY HOUSE\"  2015-11-01  85006.0  46.836941   both  \n",
       "2            \"APARTMENT\"  2015-11-01  85014.0  46.836941   both  \n",
       "3  \"SINGLE FAMILY HOUSE\"  2015-11-01  85307.0  46.836941   both  \n",
       "4  \"SINGLE FAMILY HOUSE\"  2015-11-01  85043.0  46.836941   both  "
      ]
     },
     "execution_count": 12,
     "metadata": {},
     "output_type": "execute_result"
    }
   ],
   "source": [
    "#merge dataframes\n",
    "combined = pd.merge(df, weather_grouped, on = 'date', how = 'left', indicator = True)\n",
    "combined.head()"
   ]
  },
  {
   "cell_type": "code",
   "execution_count": 13,
   "metadata": {},
   "outputs": [
    {
     "data": {
      "image/png": "[encoded data removed]",
      "text/plain": [
       "<Figure size 432x288 with 1 Axes>"
      ]
     },
     "metadata": {
      "needs_background": "light"
     },
     "output_type": "display_data"
    }
   ],
   "source": [
    "# looking at scatterplot between count of crimes and temperature to test my theory from the basics badge\n",
    "x = combined.groupby('date').mean()['temp']\n",
    "y = combined.groupby('date').count()['\"INC NUMBER\"']\n",
    "plt.xlabel('Temperature (in Degrees Fahrenheit)')\n",
    "plt.ylabel('Number of Crimes')\n",
    "plt.scatter(x, y)\n",
    "plt.show()"
   ]
  },
  {
   "cell_type": "markdown",
   "metadata": {},
   "source": [
    "From this, it is difficult to tell exactly if there is a relationship between number of crimes in a given day and the temperature outside. We might see a slight increase in crime as weather increases, but I wouldn't feel confident making this assumption until I explore the data more. One thing I noticed when I was doing research preparing for this module is that different crimes are often correllated with specific temperatures. For example, outdoor crime is more likely to happen in the summer and indoor crime such as burglary are more likely to happen in colder month. Thus, in my next plot I want to explore only burglaries and see if we can identify a relationship there. "
   ]
  },
  {
   "cell_type": "code",
   "execution_count": 14,
   "metadata": {},
   "outputs": [
    {
     "data": {
      "image/png": "[encoded data removed]",
      "text/plain": [
       "<Figure size 432x288 with 1 Axes>"
      ]
     },
     "metadata": {
      "needs_background": "light"
     },
     "output_type": "display_data"
    }
   ],
   "source": [
    "# looking to see if there is a relationship between burglary and weather\n",
    "burglary = combined[combined['\"UCR CRIME CATEGORY\"'] == '\"BURGLARY\"']\n",
    "x = burglary.groupby('date').mean()['temp']\n",
    "y = burglary.groupby('date').count()['\"INC NUMBER\"']\n",
    "plt.xlabel('Temperature (in Degrees Fahrenheit)')\n",
    "plt.ylabel('Number of Burglaries')\n",
    "plt.scatter(x, y)\n",
    "plt.show()"
   ]
  },
  {
   "cell_type": "markdown",
   "metadata": {},
   "source": [
    "From this scatterplot there also does not seem to be a clear relationship between temperature and number of burglaries. This may seem to disprove my theory, at least for Pheonix during this time period, that there would be a negative relationship between counts of burglary and temperature (as temperature increases, burglary decreases)."
   ]
  },
  {
   "cell_type": "code",
   "execution_count": 16,
   "metadata": {},
   "outputs": [
    {
     "data": {
      "text/plain": [
       "0         40-60\n",
       "1         40-60\n",
       "2         40-60\n",
       "3         40-60\n",
       "4         40-60\n",
       "          ...  \n",
       "131672      -40\n",
       "131673      -40\n",
       "131674      -40\n",
       "131675      -40\n",
       "131676      -40\n",
       "Name: temp_group, Length: 131677, dtype: object"
      ]
     },
     "execution_count": 16,
     "metadata": {},
     "output_type": "execute_result"
    }
   ],
   "source": [
    "# create a grouped by weather column\n",
    "combined.loc[combined['temp'].between(0, 40, 'both'), 'temp_group'] = '-40'\n",
    "combined.loc[combined['temp'].between(40, 60, 'right'), 'temp_group'] = '40-60'\n",
    "combined.loc[combined['temp'].between(60, 80, 'right'), 'temp_group'] = '60-80'\n",
    "combined.loc[combined['temp'].between(80, 120, 'right'), 'temp_group'] = '80+'\n",
    "\n",
    "combined['temp_group']"
   ]
  },
  {
   "cell_type": "code",
   "execution_count": 17,
   "metadata": {},
   "outputs": [
    {
     "data": {
      "text/plain": [
       "<BarContainer object of 4 artists>"
      ]
     },
     "execution_count": 17,
     "metadata": {},
     "output_type": "execute_result"
    },
    {
     "data": {
      "image/png": "[encoded data removed]",
      "text/plain": [
       "<Figure size 432x288 with 1 Axes>"
      ]
     },
     "metadata": {
      "needs_background": "light"
     },
     "output_type": "display_data"
    }
   ],
   "source": [
    "# group by temp group to count crimes\n",
    "values = combined.groupby('temp_group').count()['\"INC NUMBER\"']\n",
    "x = values.index\n",
    "y = values.values\n",
    "plt.xlabel('Temperature (in Degrees Fahrenheit)')\n",
    "plt.ylabel('Number of Crimes')\n",
    "plt.bar(x, y)"
   ]
  },
  {
   "cell_type": "markdown",
   "metadata": {},
   "source": [
    "I also wanted to try exploring temperature and crime data by grouping by weather groups. One thing I am struggling with here is that I am not sure exactly what to make the weather groups. It is clear that the most crimes are happening between 40 and 60 degrees Fareinheit, but we also see that 40-60 degree days make up the majority of our dataset so it is hard to tell any sort of relationship here from looking at our bar plot. "
   ]
  },
  {
   "cell_type": "code",
   "execution_count": 18,
   "metadata": {},
   "outputs": [
    {
     "data": {
      "text/plain": [
       "<BarContainer object of 4 artists>"
      ]
     },
     "execution_count": 18,
     "metadata": {},
     "output_type": "execute_result"
    },
    {
     "data": {
      "image/png": "[encoded data removed]",
      "text/plain": [
       "<Figure size 432x288 with 1 Axes>"
      ]
     },
     "metadata": {
      "needs_background": "light"
     },
     "output_type": "display_data"
    }
   ],
   "source": [
    "# group by temp group to count burglary crimes\n",
    "burglary = combined[combined['\"UCR CRIME CATEGORY\"'] == '\"BURGLARY\"']\n",
    "values_b = burglary.groupby('temp_group').count()['\"INC NUMBER\"']\n",
    "x = values_b.index\n",
    "y = values_b.values\n",
    "plt.xlabel('Temperature (in Degrees Fahrenheit)')\n",
    "plt.ylabel('Number of Burglaries')\n",
    "plt.bar(x, y)"
   ]
  },
  {
   "cell_type": "code",
   "execution_count": 22,
   "metadata": {},
   "outputs": [],
   "source": [
    "# linear regression\n",
    "x = combined.groupby('date').mean()['temp']\n",
    "y = combined.groupby('date').count()['\"INC NUMBER\"']\n",
    "model = LinearRegression()"
   ]
  },
  {
   "cell_type": "markdown",
   "metadata": {},
   "source": [
    "Tried looking into linear regression here using the sklearn package, unfortunately I must be doing something wrong. Either way, I don't think this linear regression would give us too much detail as we can see clearly from our scatterplot that there does not seem to be a relationship. "
   ]
  },
  {
   "cell_type": "code",
   "execution_count": null,
   "metadata": {},
   "outputs": [],
   "source": [
    "- (https://www.meteoblue.com/en/weather/archive/export?daterange=2015-10-31%20-%202017-11-17&locations%5B%5D=basel_switzerland_2661604&domain=ERA5T&min=2017-10-01&max=2017-11-17&params%5B%5D=&params%5B%5D=temp2m&params%5B%5D=&params%5B%5D=relhum2m&params%5B%5D=&params%5B%5D=wind%2Bdir10m&params%5B%5D=&params%5B%5D=&params%5B%5D=&params%5B%5D=&params%5B%5D=&utc_offset=1&timeResolution=hourly&temperatureunit=FAHRENHEIT&velocityunit=KILOMETER_PER_HOUR&energyunit=watts&lengthunit=metric&degree_day_type=10%3B30&gddBase=10&gddLimit=30)"
   ]
  }
 ],
 "metadata": {
  "kernelspec": {
   "display_name": "Python 3",
   "language": "python",
   "name": "python3"
  },
  "language_info": {
   "codemirror_mode": {
    "name": "ipython",
    "version": 3
   },
   "file_extension": ".py",
   "mimetype": "text/x-python",
   "name": "python",
   "nbconvert_exporter": "python",
   "pygments_lexer": "ipython3",
   "version": "3.8.5"
  }
 },
 "nbformat": 4,
 "nbformat_minor": 4
}
