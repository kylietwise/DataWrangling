{
 "cells": [
  {
   "cell_type": "markdown",
   "metadata": {},
   "source": [
    "Basics\n",
    "\n",
    "Parse, clean, and organize the Jeopardy! question data file to train a Naive Bayesian classifier.\n",
    "\n",
    "Just as we have built a classifier above, your aim here is to make sense of the data presented, and create a binary classifier (\"high value\" and \"low value,\" based on the points available for each) for questions. Despite the large number of questions, this is an extraordinarily difficult classification problem. Consider it as a human coder: how often could you tell those questions that are \"easy\" versus \"hard\"? The degree to which you are successful in this is largely based on your own contextual knowledge--indeed, you might be tempted to classify questions you know the answer to as \"easy\" and those you do not as \"hard.\" The computer doesn't know the answers to any of these.\n",
    "\n",
    "For that reason, do not be discouraged if your classifier does not perform well. This constitutes an especially difficult problem for a simple classifier to solve.\n",
    "\n",
    "Put the script and its output (which may merely report the accuracy of the trial) in your github repository, and share the link/filenames when you start your quiz."
   ]
  },
  {
   "cell_type": "code",
   "execution_count": 154,
   "metadata": {},
   "outputs": [],
   "source": [
    "import pandas as pd\n",
    "import json\n",
    "from sklearn.naive_bayes import MultinomialNB\n",
    "from nltk import word_tokenize\n",
    "from nltk.corpus import stopwords\n",
    "from string import punctuation\n",
    "from sklearn.feature_extraction.text import TfidfVectorizer\n",
    "from sklearn.model_selection import train_test_split\n",
    "from sklearn.feature_extraction.text import CountVectorizer\n",
    "from sklearn.pipeline import make_pipeline"
   ]
  },
  {
   "cell_type": "code",
   "execution_count": 155,
   "metadata": {},
   "outputs": [],
   "source": [
    "with open('Desktop/jeopardy.json','r') as jeopardy:\n",
    "    data = json.load(jeopardy)"
   ]
  },
  {
   "cell_type": "code",
   "execution_count": 181,
   "metadata": {},
   "outputs": [
    {
     "data": {
      "text/plain": [
       "{'category': 'HISTORY',\n",
       " 'air_date': '2004-12-31',\n",
       " 'question': \"'For the last 8 years of his life, Galileo was under house arrest for espousing this man's theory'\",\n",
       " 'value': '$200',\n",
       " 'answer': 'Copernicus',\n",
       " 'round': 'Jeopardy!',\n",
       " 'show_number': '4680'}"
      ]
     },
     "execution_count": 181,
     "metadata": {},
     "output_type": "execute_result"
    }
   ],
   "source": [
    "data[0]"
   ]
  },
  {
   "cell_type": "code",
   "execution_count": 157,
   "metadata": {},
   "outputs": [
    {
     "data": {
      "text/html": [
       "<div>\n",
       "<style scoped>\n",
       "    .dataframe tbody tr th:only-of-type {\n",
       "        vertical-align: middle;\n",
       "    }\n",
       "\n",
       "    .dataframe tbody tr th {\n",
       "        vertical-align: top;\n",
       "    }\n",
       "\n",
       "    .dataframe thead th {\n",
       "        text-align: right;\n",
       "    }\n",
       "</style>\n",
       "<table border=\"1\" class=\"dataframe\">\n",
       "  <thead>\n",
       "    <tr style=\"text-align: right;\">\n",
       "      <th></th>\n",
       "      <th>category</th>\n",
       "      <th>air_date</th>\n",
       "      <th>question</th>\n",
       "      <th>value</th>\n",
       "      <th>answer</th>\n",
       "      <th>round</th>\n",
       "      <th>show_number</th>\n",
       "    </tr>\n",
       "  </thead>\n",
       "  <tbody>\n",
       "    <tr>\n",
       "      <th>0</th>\n",
       "      <td>HISTORY</td>\n",
       "      <td>2004-12-31</td>\n",
       "      <td>'For the last 8 years of his life, Galileo was...</td>\n",
       "      <td>$200</td>\n",
       "      <td>Copernicus</td>\n",
       "      <td>Jeopardy!</td>\n",
       "      <td>4680</td>\n",
       "    </tr>\n",
       "    <tr>\n",
       "      <th>1</th>\n",
       "      <td>ESPN's TOP 10 ALL-TIME ATHLETES</td>\n",
       "      <td>2004-12-31</td>\n",
       "      <td>'No. 2: 1912 Olympian; football star at Carlis...</td>\n",
       "      <td>$200</td>\n",
       "      <td>Jim Thorpe</td>\n",
       "      <td>Jeopardy!</td>\n",
       "      <td>4680</td>\n",
       "    </tr>\n",
       "    <tr>\n",
       "      <th>2</th>\n",
       "      <td>EVERYBODY TALKS ABOUT IT...</td>\n",
       "      <td>2004-12-31</td>\n",
       "      <td>'The city of Yuma in this state has a record a...</td>\n",
       "      <td>$200</td>\n",
       "      <td>Arizona</td>\n",
       "      <td>Jeopardy!</td>\n",
       "      <td>4680</td>\n",
       "    </tr>\n",
       "    <tr>\n",
       "      <th>3</th>\n",
       "      <td>THE COMPANY LINE</td>\n",
       "      <td>2004-12-31</td>\n",
       "      <td>'In 1963, live on \"The Art Linkletter Show\", t...</td>\n",
       "      <td>$200</td>\n",
       "      <td>McDonald\\'s</td>\n",
       "      <td>Jeopardy!</td>\n",
       "      <td>4680</td>\n",
       "    </tr>\n",
       "    <tr>\n",
       "      <th>4</th>\n",
       "      <td>EPITAPHS &amp; TRIBUTES</td>\n",
       "      <td>2004-12-31</td>\n",
       "      <td>'Signer of the Dec. of Indep., framer of the C...</td>\n",
       "      <td>$200</td>\n",
       "      <td>John Adams</td>\n",
       "      <td>Jeopardy!</td>\n",
       "      <td>4680</td>\n",
       "    </tr>\n",
       "  </tbody>\n",
       "</table>\n",
       "</div>"
      ],
      "text/plain": [
       "                          category    air_date  \\\n",
       "0                          HISTORY  2004-12-31   \n",
       "1  ESPN's TOP 10 ALL-TIME ATHLETES  2004-12-31   \n",
       "2      EVERYBODY TALKS ABOUT IT...  2004-12-31   \n",
       "3                 THE COMPANY LINE  2004-12-31   \n",
       "4              EPITAPHS & TRIBUTES  2004-12-31   \n",
       "\n",
       "                                            question value       answer  \\\n",
       "0  'For the last 8 years of his life, Galileo was...  $200   Copernicus   \n",
       "1  'No. 2: 1912 Olympian; football star at Carlis...  $200   Jim Thorpe   \n",
       "2  'The city of Yuma in this state has a record a...  $200      Arizona   \n",
       "3  'In 1963, live on \"The Art Linkletter Show\", t...  $200  McDonald\\'s   \n",
       "4  'Signer of the Dec. of Indep., framer of the C...  $200   John Adams   \n",
       "\n",
       "       round show_number  \n",
       "0  Jeopardy!        4680  \n",
       "1  Jeopardy!        4680  \n",
       "2  Jeopardy!        4680  \n",
       "3  Jeopardy!        4680  \n",
       "4  Jeopardy!        4680  "
      ]
     },
     "execution_count": 157,
     "metadata": {},
     "output_type": "execute_result"
    }
   ],
   "source": [
    "jeopardy = pd.DataFrame(data)\n",
    "jeopardy.head()"
   ]
  },
  {
   "cell_type": "markdown",
   "metadata": {},
   "source": [
    "Let's do some exploration..."
   ]
  },
  {
   "cell_type": "code",
   "execution_count": 158,
   "metadata": {},
   "outputs": [
    {
     "data": {
      "text/plain": [
       "array(['$200', '$400', '$600', '$800', '$2,000', '$1000', '$1200',\n",
       "       '$1600', '$2000', '$3,200', None, '$5,000', '$100', '$300', '$500',\n",
       "       '$1,000', '$1,500', '$1,200', '$4,800', '$1,800', '$1,100',\n",
       "       '$2,200', '$3,400', '$3,000', '$4,000', '$1,600', '$6,800',\n",
       "       '$1,900', '$3,100', '$700', '$1,400', '$2,800', '$8,000', '$6,000',\n",
       "       '$2,400', '$12,000', '$3,800', '$2,500', '$6,200', '$10,000',\n",
       "       '$7,000', '$1,492', '$7,400', '$1,300', '$7,200', '$2,600',\n",
       "       '$3,300', '$5,400', '$4,500', '$2,100', '$900', '$3,600', '$2,127',\n",
       "       '$367', '$4,400', '$3,500', '$2,900', '$3,900', '$4,100', '$4,600',\n",
       "       '$10,800', '$2,300', '$5,600', '$1,111', '$8,200', '$5,800',\n",
       "       '$750', '$7,500', '$1,700', '$9,000', '$6,100', '$1,020', '$4,700',\n",
       "       '$2,021', '$5,200', '$3,389', '$4,200', '$5', '$2,001', '$1,263',\n",
       "       '$4,637', '$3,201', '$6,600', '$3,700', '$2,990', '$5,500',\n",
       "       '$14,000', '$2,700', '$6,400', '$350', '$8,600', '$6,300', '$250',\n",
       "       '$3,989', '$8,917', '$9,500', '$1,246', '$6,435', '$8,800',\n",
       "       '$2,222', '$2,746', '$10,400', '$7,600', '$6,700', '$5,100',\n",
       "       '$13,200', '$4,300', '$1,407', '$12,400', '$5,401', '$7,800',\n",
       "       '$1,183', '$1,203', '$13,000', '$11,600', '$14,200', '$1,809',\n",
       "       '$8,400', '$8,700', '$11,000', '$5,201', '$1,801', '$3,499',\n",
       "       '$5,700', '$601', '$4,008', '$50', '$2,344', '$2,811', '$18,000',\n",
       "       '$1,777', '$3,599', '$9,800', '$796', '$3,150', '$20', '$1,810',\n",
       "       '$22', '$9,200', '$1,512', '$8,500', '$585', '$1,534', '$13,800',\n",
       "       '$5,001', '$4,238', '$16,400', '$1,347', '$2547', '$11,200'],\n",
       "      dtype=object)"
      ]
     },
     "execution_count": 158,
     "metadata": {},
     "output_type": "execute_result"
    }
   ],
   "source": [
    "jeopardy['value'].unique()"
   ]
  },
  {
   "cell_type": "code",
   "execution_count": 159,
   "metadata": {},
   "outputs": [
    {
     "data": {
      "text/plain": [
       "150"
      ]
     },
     "execution_count": 159,
     "metadata": {},
     "output_type": "execute_result"
    }
   ],
   "source": [
    "len(jeopardy['value'].unique())"
   ]
  },
  {
   "cell_type": "code",
   "execution_count": 160,
   "metadata": {},
   "outputs": [
    {
     "data": {
      "text/plain": [
       "array(['HISTORY', \"ESPN's TOP 10 ALL-TIME ATHLETES\",\n",
       "       'EVERYBODY TALKS ABOUT IT...', ..., 'OFF-BROADWAY',\n",
       "       'RIDDLE ME THIS', 'AUTHORS IN THEIR YOUTH'], dtype=object)"
      ]
     },
     "execution_count": 160,
     "metadata": {},
     "output_type": "execute_result"
    }
   ],
   "source": [
    "jeopardy['category'].unique()"
   ]
  },
  {
   "cell_type": "code",
   "execution_count": 161,
   "metadata": {},
   "outputs": [
    {
     "name": "stdout",
     "output_type": "stream",
     "text": [
      "2012-01-27\n",
      "1984-09-10\n"
     ]
    }
   ],
   "source": [
    "print(jeopardy['air_date'].max())\n",
    "print(jeopardy['air_date'].min())"
   ]
  },
  {
   "cell_type": "markdown",
   "metadata": {},
   "source": [
    "Now let's try applying a baise naive model"
   ]
  },
  {
   "cell_type": "code",
   "execution_count": 162,
   "metadata": {},
   "outputs": [],
   "source": [
    "jeopardy['value'] = jeopardy['value'].str.strip('$')\n",
    "jeopardy['value'] = pd.to_numeric(jeopardy['value'].str.replace(',', ''))"
   ]
  },
  {
   "cell_type": "code",
   "execution_count": 163,
   "metadata": {},
   "outputs": [
    {
     "name": "stdout",
     "output_type": "stream",
     "text": [
      "18000.0\n",
      "5.0\n"
     ]
    },
    {
     "data": {
      "text/plain": [
       "9002.5"
      ]
     },
     "execution_count": 163,
     "metadata": {},
     "output_type": "execute_result"
    }
   ],
   "source": [
    "print(max(jeopardy['value'].dropna()))\n",
    "print(min(jeopardy['value'].dropna()))\n",
    "(max(jeopardy['value'].dropna()) + min(jeopardy['value'].dropna()))/2"
   ]
  },
  {
   "cell_type": "code",
   "execution_count": 164,
   "metadata": {},
   "outputs": [],
   "source": [
    "stop = set(stopwords.words('english') + list(punctuation))"
   ]
  },
  {
   "cell_type": "code",
   "execution_count": 170,
   "metadata": {},
   "outputs": [],
   "source": [
    "jeopardy.loc[jeopardy['value'].between(0, 800, 'both'), 'category'] = 'low'\n",
    "jeopardy.loc[jeopardy['value'].between(800, 1801, 'right'), 'category'] = 'high'"
   ]
  },
  {
   "cell_type": "code",
   "execution_count": 166,
   "metadata": {},
   "outputs": [],
   "source": [
    "train_x, test_x, train_y, train_y = train_test_split(jeopardy['question'], jeopardy['category'], random_state = 1)"
   ]
  },
  {
   "cell_type": "code",
   "execution_count": 173,
   "metadata": {},
   "outputs": [
    {
     "data": {
      "text/plain": [
       "80347          'Cereal heiress Marjorie Post's middle name'\n",
       "211766    'Nicholas Meyer's \"The West End Horror\" takes ...\n",
       "154215    'He wrote, \"At night we ride through mansions ...\n",
       "162472    'On January 20, 1981 the U.S. released about $...\n",
       "7460      'It was nice to see this musical \"Looking Swel...\n",
       "                                ...                        \n",
       "109259                'Someone who does church work abroad'\n",
       "50057     'One of Gabriel Garcia Marquez' best-known wor...\n",
       "5192      'This Neapolitan tenor made his last public ap...\n",
       "208780    'Signed February 2, 1848, this treaty ended th...\n",
       "128037    'To end his marriage in 1877, this Russian com...\n",
       "Name: question, Length: 162697, dtype: object"
      ]
     },
     "execution_count": 173,
     "metadata": {},
     "output_type": "execute_result"
    }
   ],
   "source": [
    "train_x"
   ]
  },
  {
   "cell_type": "code",
   "execution_count": 174,
   "metadata": {},
   "outputs": [
    {
     "data": {
      "text/plain": [
       "180575    low\n",
       "85360     low\n",
       "133653    low\n",
       "4637      low\n",
       "23868     low\n",
       "         ... \n",
       "192345    low\n",
       "44587     low\n",
       "23307     low\n",
       "194290    low\n",
       "110226    low\n",
       "Name: category, Length: 54233, dtype: object"
      ]
     },
     "execution_count": 174,
     "metadata": {},
     "output_type": "execute_result"
    }
   ],
   "source": [
    "train_y"
   ]
  },
  {
   "cell_type": "code",
   "execution_count": 175,
   "metadata": {},
   "outputs": [
    {
     "name": "stdout",
     "output_type": "stream",
     "text": [
      "[[0. 0. 0. ... 0. 0. 0.]\n",
      " [0. 0. 0. ... 0. 0. 0.]\n",
      " [0. 0. 0. ... 0. 0. 0.]\n",
      " ...\n",
      " [0. 0. 0. ... 0. 0. 0.]\n",
      " [0. 0. 0. ... 0. 0. 0.]\n",
      " [0. 0. 0. ... 0. 0. 0.]]\n"
     ]
    }
   ],
   "source": [
    "tfidf_v = TfidfVectorizer(use_idf = True)\n",
    "train_x_tf = tfidf_v.fit_transform(train_x)\n",
    "test_x_tf = tfidf_v.fit_transform(test_x)\n",
    "print(train_x_tf.toarray())"
   ]
  },
  {
   "cell_type": "markdown",
   "metadata": {},
   "source": [
    "Let's try splitting the data differently because that didn't work"
   ]
  },
  {
   "cell_type": "code",
   "execution_count": 172,
   "metadata": {},
   "outputs": [
    {
     "name": "stdout",
     "output_type": "stream",
     "text": [
      "135669\n",
      "77579\n"
     ]
    }
   ],
   "source": [
    "print(len(jeopardy[jeopardy['category'] == 'low']))\n",
    "print(len(jeopardy[jeopardy['category'] == 'high']))"
   ]
  },
  {
   "cell_type": "code",
   "execution_count": 177,
   "metadata": {},
   "outputs": [],
   "source": [
    "train = jeopardy.sample(frac=0.8, random_state=1)\n",
    "test = jeopardy.drop(train.index)"
   ]
  },
  {
   "cell_type": "code",
   "execution_count": 178,
   "metadata": {},
   "outputs": [],
   "source": [
    "vectorizer = CountVectorizer()\n",
    "X_train = vectorizer.fit_transform(train['question'])\n",
    "y_train = train['category']"
   ]
  },
  {
   "cell_type": "code",
   "execution_count": 179,
   "metadata": {},
   "outputs": [
    {
     "data": {
      "text/plain": [
       "MultinomialNB()"
      ]
     },
     "execution_count": 179,
     "metadata": {},
     "output_type": "execute_result"
    }
   ],
   "source": [
    "classifier = MultinomialNB()\n",
    "classifier.fit(X_train, y_train)"
   ]
  },
  {
   "cell_type": "code",
   "execution_count": 180,
   "metadata": {},
   "outputs": [
    {
     "name": "stdout",
     "output_type": "stream",
     "text": [
      "Accuracy: 0.6101737887797907\n"
     ]
    }
   ],
   "source": [
    "X_test = vectorizer.transform(test['question'])\n",
    "y_test = test['category']\n",
    "accuracy = classifier.score(X_test, y_test)\n",
    "print('Accuracy:', accuracy)"
   ]
  },
  {
   "cell_type": "markdown",
   "metadata": {},
   "source": [
    "https://towardsdatascience.com/text-classification-using-naive-bayes-theory-a-working-example-2ef4b7eb7d5a"
   ]
  }
 ],
 "metadata": {
  "kernelspec": {
   "display_name": "Python 3",
   "language": "python",
   "name": "python3"
  },
  "language_info": {
   "codemirror_mode": {
    "name": "ipython",
    "version": 3
   },
   "file_extension": ".py",
   "mimetype": "text/x-python",
   "name": "python",
   "nbconvert_exporter": "python",
   "pygments_lexer": "ipython3",
   "version": "3.8.5"
  }
 },
 "nbformat": 4,
 "nbformat_minor": 4
}
